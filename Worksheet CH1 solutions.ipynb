{
 "cells": [
  {
   "cell_type": "markdown",
   "id": "a104e70c",
   "metadata": {},
   "source": [
    "**Worksheet_1: End-to-end Machine Learning project**<br/>\n",
    "In this worksheet we will work with an Automobile Data Set to try and predict the price of a car based on a bunch of features"
   ]
  },
  {
   "cell_type": "markdown",
   "id": "dcb88922",
   "metadata": {},
   "source": [
    "## Look at Big Picture:\n",
    "it is always good to know what is the goal of the project you are working on so you can better make dessitions about the type of output you are looking for(i.e. regression, classification), and what methods you should use(i.e.supervised, unsupervised, RL).<br/>\n",
    "In this case the goal of this Project is to predict the numerical value of a diamond given some atributes, lets look at the data set and see what we are dealing with"
   ]
  },
  {
   "cell_type": "markdown",
   "id": "1051cea4",
   "metadata": {},
   "source": [
    "## Get the Data\n"
   ]
  },
  {
   "cell_type": "markdown",
   "id": "c938ec39",
   "metadata": {},
   "source": [
    "### Attribute Information:\n",
    "price price in US dollars (\\$326 — \\$18,823)\n",
    "\n",
    "carat weight of the diamond (0.2–5.01)\n",
    "\n",
    "cut quality of the cut (Fair, Good, Very Good, Premium, Ideal)\n",
    "\n",
    "color diamond colour, from J (worst) to D (best)\n",
    "\n",
    "clarity a measurement of how clear the diamond is (I1 (worst), SI2, SI1, VS2, VS1, VVS2, VVS1, IF (best))\n",
    "\n",
    "x length in mm (0–10.74)\n",
    "\n",
    "y width in mm (0–58.9)\n",
    "\n",
    "z depth in mm (0–31.8)\n",
    "\n",
    "depth total depth percentage = z / mean(x, y) = 2 * z / (x + y) (43–79)\n",
    "\n",
    "table width of top of diamond relative to widest point (43–95)"
   ]
  },
  {
   "cell_type": "code",
   "execution_count": 2,
   "id": "7e5f1233",
   "metadata": {},
   "outputs": [],
   "source": [
    "import pandas as pd"
   ]
  },
  {
   "cell_type": "code",
   "execution_count": 3,
   "id": "2ba2ba03",
   "metadata": {},
   "outputs": [],
   "source": [
    "import seaborn as sns\n"
   ]
  },
  {
   "cell_type": "code",
   "execution_count": 4,
   "id": "1d0007da",
   "metadata": {},
   "outputs": [],
   "source": [
    "diamond=sns.load_dataset('diamonds', cache=True, data_home=None)"
   ]
  },
  {
   "cell_type": "markdown",
   "id": "2639a652",
   "metadata": {},
   "source": [
    "Problem 1.1: Take a quick look at the data\n",
    "- take a look at the first few lines of the data\n",
    "- check if any data is missing/ the data types\n",
    "- check the min max mean std of the numerical data\n",
    "- make histagram of all the data"
   ]
  },
  {
   "cell_type": "code",
   "execution_count": 5,
   "id": "cc78f63a",
   "metadata": {},
   "outputs": [
    {
     "data": {
      "text/html": [
       "<div>\n",
       "<style scoped>\n",
       "    .dataframe tbody tr th:only-of-type {\n",
       "        vertical-align: middle;\n",
       "    }\n",
       "\n",
       "    .dataframe tbody tr th {\n",
       "        vertical-align: top;\n",
       "    }\n",
       "\n",
       "    .dataframe thead th {\n",
       "        text-align: right;\n",
       "    }\n",
       "</style>\n",
       "<table border=\"1\" class=\"dataframe\">\n",
       "  <thead>\n",
       "    <tr style=\"text-align: right;\">\n",
       "      <th></th>\n",
       "      <th>carat</th>\n",
       "      <th>cut</th>\n",
       "      <th>color</th>\n",
       "      <th>clarity</th>\n",
       "      <th>depth</th>\n",
       "      <th>table</th>\n",
       "      <th>price</th>\n",
       "      <th>x</th>\n",
       "      <th>y</th>\n",
       "      <th>z</th>\n",
       "    </tr>\n",
       "  </thead>\n",
       "  <tbody>\n",
       "    <tr>\n",
       "      <th>0</th>\n",
       "      <td>0.23</td>\n",
       "      <td>Ideal</td>\n",
       "      <td>E</td>\n",
       "      <td>SI2</td>\n",
       "      <td>61.5</td>\n",
       "      <td>55.0</td>\n",
       "      <td>326</td>\n",
       "      <td>3.95</td>\n",
       "      <td>3.98</td>\n",
       "      <td>2.43</td>\n",
       "    </tr>\n",
       "    <tr>\n",
       "      <th>1</th>\n",
       "      <td>0.21</td>\n",
       "      <td>Premium</td>\n",
       "      <td>E</td>\n",
       "      <td>SI1</td>\n",
       "      <td>59.8</td>\n",
       "      <td>61.0</td>\n",
       "      <td>326</td>\n",
       "      <td>3.89</td>\n",
       "      <td>3.84</td>\n",
       "      <td>2.31</td>\n",
       "    </tr>\n",
       "    <tr>\n",
       "      <th>2</th>\n",
       "      <td>0.23</td>\n",
       "      <td>Good</td>\n",
       "      <td>E</td>\n",
       "      <td>VS1</td>\n",
       "      <td>56.9</td>\n",
       "      <td>65.0</td>\n",
       "      <td>327</td>\n",
       "      <td>4.05</td>\n",
       "      <td>4.07</td>\n",
       "      <td>2.31</td>\n",
       "    </tr>\n",
       "    <tr>\n",
       "      <th>3</th>\n",
       "      <td>0.29</td>\n",
       "      <td>Premium</td>\n",
       "      <td>I</td>\n",
       "      <td>VS2</td>\n",
       "      <td>62.4</td>\n",
       "      <td>58.0</td>\n",
       "      <td>334</td>\n",
       "      <td>4.20</td>\n",
       "      <td>4.23</td>\n",
       "      <td>2.63</td>\n",
       "    </tr>\n",
       "    <tr>\n",
       "      <th>4</th>\n",
       "      <td>0.31</td>\n",
       "      <td>Good</td>\n",
       "      <td>J</td>\n",
       "      <td>SI2</td>\n",
       "      <td>63.3</td>\n",
       "      <td>58.0</td>\n",
       "      <td>335</td>\n",
       "      <td>4.34</td>\n",
       "      <td>4.35</td>\n",
       "      <td>2.75</td>\n",
       "    </tr>\n",
       "  </tbody>\n",
       "</table>\n",
       "</div>"
      ],
      "text/plain": [
       "   carat      cut color clarity  depth  table  price     x     y     z\n",
       "0   0.23    Ideal     E     SI2   61.5   55.0    326  3.95  3.98  2.43\n",
       "1   0.21  Premium     E     SI1   59.8   61.0    326  3.89  3.84  2.31\n",
       "2   0.23     Good     E     VS1   56.9   65.0    327  4.05  4.07  2.31\n",
       "3   0.29  Premium     I     VS2   62.4   58.0    334  4.20  4.23  2.63\n",
       "4   0.31     Good     J     SI2   63.3   58.0    335  4.34  4.35  2.75"
      ]
     },
     "execution_count": 5,
     "metadata": {},
     "output_type": "execute_result"
    }
   ],
   "source": [
    "diamond.head()"
   ]
  },
  {
   "cell_type": "code",
   "execution_count": 6,
   "id": "22d003c8",
   "metadata": {},
   "outputs": [
    {
     "name": "stdout",
     "output_type": "stream",
     "text": [
      "<class 'pandas.core.frame.DataFrame'>\n",
      "RangeIndex: 53940 entries, 0 to 53939\n",
      "Data columns (total 10 columns):\n",
      " #   Column   Non-Null Count  Dtype   \n",
      "---  ------   --------------  -----   \n",
      " 0   carat    53940 non-null  float64 \n",
      " 1   cut      53940 non-null  category\n",
      " 2   color    53940 non-null  category\n",
      " 3   clarity  53940 non-null  category\n",
      " 4   depth    53940 non-null  float64 \n",
      " 5   table    53940 non-null  float64 \n",
      " 6   price    53940 non-null  int64   \n",
      " 7   x        53940 non-null  float64 \n",
      " 8   y        53940 non-null  float64 \n",
      " 9   z        53940 non-null  float64 \n",
      "dtypes: category(3), float64(6), int64(1)\n",
      "memory usage: 3.0 MB\n"
     ]
    }
   ],
   "source": [
    "diamond.info()"
   ]
  },
  {
   "cell_type": "markdown",
   "id": "f2f3d3ea",
   "metadata": {},
   "source": [
    "seems like there is no missing data, but we will still deal with the case were there is missing data incase you get a new instance with missing data"
   ]
  },
  {
   "cell_type": "code",
   "execution_count": 7,
   "id": "d1fc4630",
   "metadata": {},
   "outputs": [
    {
     "data": {
      "text/html": [
       "<div>\n",
       "<style scoped>\n",
       "    .dataframe tbody tr th:only-of-type {\n",
       "        vertical-align: middle;\n",
       "    }\n",
       "\n",
       "    .dataframe tbody tr th {\n",
       "        vertical-align: top;\n",
       "    }\n",
       "\n",
       "    .dataframe thead th {\n",
       "        text-align: right;\n",
       "    }\n",
       "</style>\n",
       "<table border=\"1\" class=\"dataframe\">\n",
       "  <thead>\n",
       "    <tr style=\"text-align: right;\">\n",
       "      <th></th>\n",
       "      <th>carat</th>\n",
       "      <th>depth</th>\n",
       "      <th>table</th>\n",
       "      <th>price</th>\n",
       "      <th>x</th>\n",
       "      <th>y</th>\n",
       "      <th>z</th>\n",
       "    </tr>\n",
       "  </thead>\n",
       "  <tbody>\n",
       "    <tr>\n",
       "      <th>count</th>\n",
       "      <td>53940.000000</td>\n",
       "      <td>53940.000000</td>\n",
       "      <td>53940.000000</td>\n",
       "      <td>53940.000000</td>\n",
       "      <td>53940.000000</td>\n",
       "      <td>53940.000000</td>\n",
       "      <td>53940.000000</td>\n",
       "    </tr>\n",
       "    <tr>\n",
       "      <th>mean</th>\n",
       "      <td>0.797940</td>\n",
       "      <td>61.749405</td>\n",
       "      <td>57.457184</td>\n",
       "      <td>3932.799722</td>\n",
       "      <td>5.731157</td>\n",
       "      <td>5.734526</td>\n",
       "      <td>3.538734</td>\n",
       "    </tr>\n",
       "    <tr>\n",
       "      <th>std</th>\n",
       "      <td>0.474011</td>\n",
       "      <td>1.432621</td>\n",
       "      <td>2.234491</td>\n",
       "      <td>3989.439738</td>\n",
       "      <td>1.121761</td>\n",
       "      <td>1.142135</td>\n",
       "      <td>0.705699</td>\n",
       "    </tr>\n",
       "    <tr>\n",
       "      <th>min</th>\n",
       "      <td>0.200000</td>\n",
       "      <td>43.000000</td>\n",
       "      <td>43.000000</td>\n",
       "      <td>326.000000</td>\n",
       "      <td>0.000000</td>\n",
       "      <td>0.000000</td>\n",
       "      <td>0.000000</td>\n",
       "    </tr>\n",
       "    <tr>\n",
       "      <th>25%</th>\n",
       "      <td>0.400000</td>\n",
       "      <td>61.000000</td>\n",
       "      <td>56.000000</td>\n",
       "      <td>950.000000</td>\n",
       "      <td>4.710000</td>\n",
       "      <td>4.720000</td>\n",
       "      <td>2.910000</td>\n",
       "    </tr>\n",
       "    <tr>\n",
       "      <th>50%</th>\n",
       "      <td>0.700000</td>\n",
       "      <td>61.800000</td>\n",
       "      <td>57.000000</td>\n",
       "      <td>2401.000000</td>\n",
       "      <td>5.700000</td>\n",
       "      <td>5.710000</td>\n",
       "      <td>3.530000</td>\n",
       "    </tr>\n",
       "    <tr>\n",
       "      <th>75%</th>\n",
       "      <td>1.040000</td>\n",
       "      <td>62.500000</td>\n",
       "      <td>59.000000</td>\n",
       "      <td>5324.250000</td>\n",
       "      <td>6.540000</td>\n",
       "      <td>6.540000</td>\n",
       "      <td>4.040000</td>\n",
       "    </tr>\n",
       "    <tr>\n",
       "      <th>max</th>\n",
       "      <td>5.010000</td>\n",
       "      <td>79.000000</td>\n",
       "      <td>95.000000</td>\n",
       "      <td>18823.000000</td>\n",
       "      <td>10.740000</td>\n",
       "      <td>58.900000</td>\n",
       "      <td>31.800000</td>\n",
       "    </tr>\n",
       "  </tbody>\n",
       "</table>\n",
       "</div>"
      ],
      "text/plain": [
       "              carat         depth         table         price             x  \\\n",
       "count  53940.000000  53940.000000  53940.000000  53940.000000  53940.000000   \n",
       "mean       0.797940     61.749405     57.457184   3932.799722      5.731157   \n",
       "std        0.474011      1.432621      2.234491   3989.439738      1.121761   \n",
       "min        0.200000     43.000000     43.000000    326.000000      0.000000   \n",
       "25%        0.400000     61.000000     56.000000    950.000000      4.710000   \n",
       "50%        0.700000     61.800000     57.000000   2401.000000      5.700000   \n",
       "75%        1.040000     62.500000     59.000000   5324.250000      6.540000   \n",
       "max        5.010000     79.000000     95.000000  18823.000000     10.740000   \n",
       "\n",
       "                  y             z  \n",
       "count  53940.000000  53940.000000  \n",
       "mean       5.734526      3.538734  \n",
       "std        1.142135      0.705699  \n",
       "min        0.000000      0.000000  \n",
       "25%        4.720000      2.910000  \n",
       "50%        5.710000      3.530000  \n",
       "75%        6.540000      4.040000  \n",
       "max       58.900000     31.800000  "
      ]
     },
     "execution_count": 7,
     "metadata": {},
     "output_type": "execute_result"
    }
   ],
   "source": [
    "diamond.describe()"
   ]
  },
  {
   "cell_type": "code",
   "execution_count": 8,
   "id": "2ae1f6ff",
   "metadata": {},
   "outputs": [
    {
     "data": {
      "text/plain": [
       "array([[<AxesSubplot:title={'center':'carat'}>,\n",
       "        <AxesSubplot:title={'center':'depth'}>,\n",
       "        <AxesSubplot:title={'center':'table'}>],\n",
       "       [<AxesSubplot:title={'center':'price'}>,\n",
       "        <AxesSubplot:title={'center':'x'}>,\n",
       "        <AxesSubplot:title={'center':'y'}>],\n",
       "       [<AxesSubplot:title={'center':'z'}>, <AxesSubplot:>,\n",
       "        <AxesSubplot:>]], dtype=object)"
      ]
     },
     "execution_count": 8,
     "metadata": {},
     "output_type": "execute_result"
    }
   ],
   "source": [
    "diamond.hist(bins=50, figsize=(20,15))"
   ]
  },
  {
   "cell_type": "markdown",
   "id": "93d9aaaa",
   "metadata": {},
   "source": [
    "some things to notice:\n",
    "1. seems like price and carat size is correlated a lot, we will look at it closer in the next sections\n",
    "2. the scales are very diffrent \n",
    "3. a lot of the hists are tail heavy and we might have to make them look more normal later so it will be easier for the ML model to learn"
   ]
  },
  {
   "cell_type": "markdown",
   "id": "76ff02f6",
   "metadata": {},
   "source": [
    "## Make test set\n",
    "we make a test set so we dont over fit the model, meaning if we had no test set the model would do very well on the data it was trained on but it would do a lot worse if given an out of sample exaple."
   ]
  },
  {
   "cell_type": "markdown",
   "id": "1a922f33",
   "metadata": {},
   "source": [
    "problem 2: split data into test set and training set (there is more then one way to do this)"
   ]
  },
  {
   "cell_type": "code",
   "execution_count": 9,
   "id": "9efd50fe",
   "metadata": {},
   "outputs": [],
   "source": [
    "# there are other ways to do this in the book but I find this gets the best results easiest,\n",
    "# it randomly splits the data into two parts \n",
    "from sklearn.model_selection import train_test_split\n",
    "train_set, test_set = train_test_split(diamond, test_size=0.2, random_state=42)\n"
   ]
  },
  {
   "cell_type": "markdown",
   "id": "093e1e6c",
   "metadata": {},
   "source": [
    "## Discover and Visualize the Data to Gain Insights\n"
   ]
  },
  {
   "cell_type": "code",
   "execution_count": 10,
   "id": "81246c51",
   "metadata": {},
   "outputs": [],
   "source": [
    "diamond = train_set.copy()\n"
   ]
  },
  {
   "cell_type": "code",
   "execution_count": 11,
   "id": "7bbed846",
   "metadata": {
    "scrolled": true
   },
   "outputs": [
    {
     "data": {
      "text/html": [
       "<div>\n",
       "<style scoped>\n",
       "    .dataframe tbody tr th:only-of-type {\n",
       "        vertical-align: middle;\n",
       "    }\n",
       "\n",
       "    .dataframe tbody tr th {\n",
       "        vertical-align: top;\n",
       "    }\n",
       "\n",
       "    .dataframe thead th {\n",
       "        text-align: right;\n",
       "    }\n",
       "</style>\n",
       "<table border=\"1\" class=\"dataframe\">\n",
       "  <thead>\n",
       "    <tr style=\"text-align: right;\">\n",
       "      <th></th>\n",
       "      <th>carat</th>\n",
       "      <th>cut</th>\n",
       "      <th>color</th>\n",
       "      <th>clarity</th>\n",
       "      <th>depth</th>\n",
       "      <th>table</th>\n",
       "      <th>price</th>\n",
       "      <th>x</th>\n",
       "      <th>y</th>\n",
       "      <th>z</th>\n",
       "    </tr>\n",
       "  </thead>\n",
       "  <tbody>\n",
       "    <tr>\n",
       "      <th>26546</th>\n",
       "      <td>2.01</td>\n",
       "      <td>Good</td>\n",
       "      <td>F</td>\n",
       "      <td>SI2</td>\n",
       "      <td>58.1</td>\n",
       "      <td>64.0</td>\n",
       "      <td>16231</td>\n",
       "      <td>8.23</td>\n",
       "      <td>8.19</td>\n",
       "      <td>4.77</td>\n",
       "    </tr>\n",
       "    <tr>\n",
       "      <th>9159</th>\n",
       "      <td>1.01</td>\n",
       "      <td>Very Good</td>\n",
       "      <td>E</td>\n",
       "      <td>SI2</td>\n",
       "      <td>60.0</td>\n",
       "      <td>60.0</td>\n",
       "      <td>4540</td>\n",
       "      <td>6.57</td>\n",
       "      <td>6.49</td>\n",
       "      <td>3.92</td>\n",
       "    </tr>\n",
       "    <tr>\n",
       "      <th>14131</th>\n",
       "      <td>1.10</td>\n",
       "      <td>Premium</td>\n",
       "      <td>H</td>\n",
       "      <td>VS2</td>\n",
       "      <td>62.5</td>\n",
       "      <td>58.0</td>\n",
       "      <td>5729</td>\n",
       "      <td>6.59</td>\n",
       "      <td>6.54</td>\n",
       "      <td>4.10</td>\n",
       "    </tr>\n",
       "    <tr>\n",
       "      <th>15757</th>\n",
       "      <td>1.50</td>\n",
       "      <td>Good</td>\n",
       "      <td>E</td>\n",
       "      <td>SI2</td>\n",
       "      <td>61.5</td>\n",
       "      <td>65.0</td>\n",
       "      <td>6300</td>\n",
       "      <td>7.21</td>\n",
       "      <td>7.17</td>\n",
       "      <td>4.42</td>\n",
       "    </tr>\n",
       "    <tr>\n",
       "      <th>24632</th>\n",
       "      <td>1.52</td>\n",
       "      <td>Very Good</td>\n",
       "      <td>G</td>\n",
       "      <td>VS1</td>\n",
       "      <td>62.1</td>\n",
       "      <td>57.0</td>\n",
       "      <td>12968</td>\n",
       "      <td>7.27</td>\n",
       "      <td>7.32</td>\n",
       "      <td>4.53</td>\n",
       "    </tr>\n",
       "    <tr>\n",
       "      <th>...</th>\n",
       "      <td>...</td>\n",
       "      <td>...</td>\n",
       "      <td>...</td>\n",
       "      <td>...</td>\n",
       "      <td>...</td>\n",
       "      <td>...</td>\n",
       "      <td>...</td>\n",
       "      <td>...</td>\n",
       "      <td>...</td>\n",
       "      <td>...</td>\n",
       "    </tr>\n",
       "    <tr>\n",
       "      <th>11284</th>\n",
       "      <td>1.05</td>\n",
       "      <td>Very Good</td>\n",
       "      <td>I</td>\n",
       "      <td>VS2</td>\n",
       "      <td>62.4</td>\n",
       "      <td>59.0</td>\n",
       "      <td>4975</td>\n",
       "      <td>6.48</td>\n",
       "      <td>6.51</td>\n",
       "      <td>4.05</td>\n",
       "    </tr>\n",
       "    <tr>\n",
       "      <th>44732</th>\n",
       "      <td>0.47</td>\n",
       "      <td>Ideal</td>\n",
       "      <td>D</td>\n",
       "      <td>VS1</td>\n",
       "      <td>61.0</td>\n",
       "      <td>55.0</td>\n",
       "      <td>1617</td>\n",
       "      <td>5.03</td>\n",
       "      <td>5.01</td>\n",
       "      <td>3.06</td>\n",
       "    </tr>\n",
       "    <tr>\n",
       "      <th>38158</th>\n",
       "      <td>0.33</td>\n",
       "      <td>Very Good</td>\n",
       "      <td>F</td>\n",
       "      <td>IF</td>\n",
       "      <td>60.3</td>\n",
       "      <td>58.0</td>\n",
       "      <td>1014</td>\n",
       "      <td>4.49</td>\n",
       "      <td>4.46</td>\n",
       "      <td>2.70</td>\n",
       "    </tr>\n",
       "    <tr>\n",
       "      <th>860</th>\n",
       "      <td>0.90</td>\n",
       "      <td>Premium</td>\n",
       "      <td>J</td>\n",
       "      <td>SI1</td>\n",
       "      <td>62.8</td>\n",
       "      <td>59.0</td>\n",
       "      <td>2871</td>\n",
       "      <td>6.13</td>\n",
       "      <td>6.03</td>\n",
       "      <td>3.82</td>\n",
       "    </tr>\n",
       "    <tr>\n",
       "      <th>15795</th>\n",
       "      <td>1.14</td>\n",
       "      <td>Premium</td>\n",
       "      <td>F</td>\n",
       "      <td>SI1</td>\n",
       "      <td>60.4</td>\n",
       "      <td>58.0</td>\n",
       "      <td>6320</td>\n",
       "      <td>6.82</td>\n",
       "      <td>6.79</td>\n",
       "      <td>4.11</td>\n",
       "    </tr>\n",
       "  </tbody>\n",
       "</table>\n",
       "<p>43152 rows × 10 columns</p>\n",
       "</div>"
      ],
      "text/plain": [
       "       carat        cut color clarity  depth  table  price     x     y     z\n",
       "26546   2.01       Good     F     SI2   58.1   64.0  16231  8.23  8.19  4.77\n",
       "9159    1.01  Very Good     E     SI2   60.0   60.0   4540  6.57  6.49  3.92\n",
       "14131   1.10    Premium     H     VS2   62.5   58.0   5729  6.59  6.54  4.10\n",
       "15757   1.50       Good     E     SI2   61.5   65.0   6300  7.21  7.17  4.42\n",
       "24632   1.52  Very Good     G     VS1   62.1   57.0  12968  7.27  7.32  4.53\n",
       "...      ...        ...   ...     ...    ...    ...    ...   ...   ...   ...\n",
       "11284   1.05  Very Good     I     VS2   62.4   59.0   4975  6.48  6.51  4.05\n",
       "44732   0.47      Ideal     D     VS1   61.0   55.0   1617  5.03  5.01  3.06\n",
       "38158   0.33  Very Good     F      IF   60.3   58.0   1014  4.49  4.46  2.70\n",
       "860     0.90    Premium     J     SI1   62.8   59.0   2871  6.13  6.03  3.82\n",
       "15795   1.14    Premium     F     SI1   60.4   58.0   6320  6.82  6.79  4.11\n",
       "\n",
       "[43152 rows x 10 columns]"
      ]
     },
     "execution_count": 11,
     "metadata": {},
     "output_type": "execute_result"
    }
   ],
   "source": [
    "diamond"
   ]
  },
  {
   "cell_type": "markdown",
   "id": "4ef07c7a",
   "metadata": {},
   "source": [
    "Problem 3: make some graphs to learn more about the data"
   ]
  },
  {
   "cell_type": "code",
   "execution_count": 12,
   "id": "6cecde30",
   "metadata": {},
   "outputs": [
    {
     "data": {
      "text/plain": [
       "<AxesSubplot:xlabel='price', ylabel='carat'>"
      ]
     },
     "execution_count": 12,
     "metadata": {},
     "output_type": "execute_result"
    }
   ],
   "source": [
    "diamond.plot.scatter(x='price', y='carat',alpha=.4)"
   ]
  },
  {
   "cell_type": "code",
   "execution_count": 13,
   "id": "780e7279",
   "metadata": {},
   "outputs": [
    {
     "data": {
      "text/plain": [
       "array([[<AxesSubplot:xlabel='carat', ylabel='carat'>,\n",
       "        <AxesSubplot:xlabel='depth', ylabel='carat'>,\n",
       "        <AxesSubplot:xlabel='table', ylabel='carat'>,\n",
       "        <AxesSubplot:xlabel='price', ylabel='carat'>,\n",
       "        <AxesSubplot:xlabel='x', ylabel='carat'>,\n",
       "        <AxesSubplot:xlabel='y', ylabel='carat'>,\n",
       "        <AxesSubplot:xlabel='z', ylabel='carat'>],\n",
       "       [<AxesSubplot:xlabel='carat', ylabel='depth'>,\n",
       "        <AxesSubplot:xlabel='depth', ylabel='depth'>,\n",
       "        <AxesSubplot:xlabel='table', ylabel='depth'>,\n",
       "        <AxesSubplot:xlabel='price', ylabel='depth'>,\n",
       "        <AxesSubplot:xlabel='x', ylabel='depth'>,\n",
       "        <AxesSubplot:xlabel='y', ylabel='depth'>,\n",
       "        <AxesSubplot:xlabel='z', ylabel='depth'>],\n",
       "       [<AxesSubplot:xlabel='carat', ylabel='table'>,\n",
       "        <AxesSubplot:xlabel='depth', ylabel='table'>,\n",
       "        <AxesSubplot:xlabel='table', ylabel='table'>,\n",
       "        <AxesSubplot:xlabel='price', ylabel='table'>,\n",
       "        <AxesSubplot:xlabel='x', ylabel='table'>,\n",
       "        <AxesSubplot:xlabel='y', ylabel='table'>,\n",
       "        <AxesSubplot:xlabel='z', ylabel='table'>],\n",
       "       [<AxesSubplot:xlabel='carat', ylabel='price'>,\n",
       "        <AxesSubplot:xlabel='depth', ylabel='price'>,\n",
       "        <AxesSubplot:xlabel='table', ylabel='price'>,\n",
       "        <AxesSubplot:xlabel='price', ylabel='price'>,\n",
       "        <AxesSubplot:xlabel='x', ylabel='price'>,\n",
       "        <AxesSubplot:xlabel='y', ylabel='price'>,\n",
       "        <AxesSubplot:xlabel='z', ylabel='price'>],\n",
       "       [<AxesSubplot:xlabel='carat', ylabel='x'>,\n",
       "        <AxesSubplot:xlabel='depth', ylabel='x'>,\n",
       "        <AxesSubplot:xlabel='table', ylabel='x'>,\n",
       "        <AxesSubplot:xlabel='price', ylabel='x'>,\n",
       "        <AxesSubplot:xlabel='x', ylabel='x'>,\n",
       "        <AxesSubplot:xlabel='y', ylabel='x'>,\n",
       "        <AxesSubplot:xlabel='z', ylabel='x'>],\n",
       "       [<AxesSubplot:xlabel='carat', ylabel='y'>,\n",
       "        <AxesSubplot:xlabel='depth', ylabel='y'>,\n",
       "        <AxesSubplot:xlabel='table', ylabel='y'>,\n",
       "        <AxesSubplot:xlabel='price', ylabel='y'>,\n",
       "        <AxesSubplot:xlabel='x', ylabel='y'>,\n",
       "        <AxesSubplot:xlabel='y', ylabel='y'>,\n",
       "        <AxesSubplot:xlabel='z', ylabel='y'>],\n",
       "       [<AxesSubplot:xlabel='carat', ylabel='z'>,\n",
       "        <AxesSubplot:xlabel='depth', ylabel='z'>,\n",
       "        <AxesSubplot:xlabel='table', ylabel='z'>,\n",
       "        <AxesSubplot:xlabel='price', ylabel='z'>,\n",
       "        <AxesSubplot:xlabel='x', ylabel='z'>,\n",
       "        <AxesSubplot:xlabel='y', ylabel='z'>,\n",
       "        <AxesSubplot:xlabel='z', ylabel='z'>]], dtype=object)"
      ]
     },
     "execution_count": 13,
     "metadata": {},
     "output_type": "execute_result"
    },
    {
     "data": {
      "image/png": "[encoded data removed]",
      "text/plain": [
       "<Figure size 864x576 with 49 Axes>"
      ]
     },
     "metadata": {
      "needs_background": "light"
     },
     "output_type": "display_data"
    }
   ],
   "source": [
    "%matplotlib inline\n",
    "\n",
    "from pandas.plotting import scatter_matrix\n",
    "scatter_matrix(diamond, figsize=(12, 8))\n"
   ]
  },
  {
   "cell_type": "markdown",
   "id": "5d9c2002",
   "metadata": {},
   "source": [
    "problem 4: what are the most and least correlated features to price"
   ]
  },
  {
   "cell_type": "code",
   "execution_count": 14,
   "id": "41a8225e",
   "metadata": {},
   "outputs": [],
   "source": [
    "corr_matrix = diamond.corr()\n"
   ]
  },
  {
   "cell_type": "code",
   "execution_count": 15,
   "id": "42518418",
   "metadata": {},
   "outputs": [
    {
     "data": {
      "text/plain": [
       "price    1.000000\n",
       "carat    0.921641\n",
       "x        0.884243\n",
       "y        0.860110\n",
       "z        0.856940\n",
       "table    0.123076\n",
       "depth   -0.005583\n",
       "Name: price, dtype: float64"
      ]
     },
     "execution_count": 15,
     "metadata": {},
     "output_type": "execute_result"
    }
   ],
   "source": [
    "# this only checks for linear correlation\n",
    "corr_matrix['price'].sort_values(ascending=False)"
   ]
  },
  {
   "cell_type": "markdown",
   "id": "e5e42c26",
   "metadata": {},
   "source": [
    "### Test out diffent Attribute combinations\n",
    "after looking at the data try and make some of your own features by combining the features given to you in the data set"
   ]
  },
  {
   "cell_type": "markdown",
   "id": "23fe50dc",
   "metadata": {},
   "source": [
    "problem 5: try and come up with your own features and check its correlation compaired to price"
   ]
  },
  {
   "cell_type": "code",
   "execution_count": 16,
   "id": "478e7f08",
   "metadata": {},
   "outputs": [],
   "source": [
    "diamond['x_y_z'] = .4*diamond['x'] + .3 * diamond['y'] + .3 * diamond['z']"
   ]
  },
  {
   "cell_type": "code",
   "execution_count": 17,
   "id": "c757b2f3",
   "metadata": {},
   "outputs": [],
   "source": [
    "corr_matrix = diamond.corr()\n"
   ]
  },
  {
   "cell_type": "code",
   "execution_count": 18,
   "id": "955a548a",
   "metadata": {},
   "outputs": [
    {
     "data": {
      "text/plain": [
       "price    1.000000\n",
       "carat    0.921641\n",
       "x        0.884243\n",
       "x_y_z    0.880946\n",
       "y        0.860110\n",
       "z        0.856940\n",
       "table    0.123076\n",
       "depth   -0.005583\n",
       "Name: price, dtype: float64"
      ]
     },
     "execution_count": 18,
     "metadata": {},
     "output_type": "execute_result"
    }
   ],
   "source": [
    "corr_matrix['price'].sort_values(ascending=False)"
   ]
  },
  {
   "cell_type": "markdown",
   "id": "24d8e778",
   "metadata": {},
   "source": [
    "x seems to be more correlated then y and z, and is highly correlated to y and z so I would probably remove y and z because it is not adding much to the results"
   ]
  },
  {
   "cell_type": "markdown",
   "id": "5c542f36",
   "metadata": {},
   "source": [
    "## Prepare the Data for Machine Learning Algorithms\n",
    "- its best to build a transformer pipeline so we could use it in training and in testing/production"
   ]
  },
  {
   "cell_type": "code",
   "execution_count": 19,
   "id": "c65ea3b7",
   "metadata": {},
   "outputs": [],
   "source": [
    "# first lets go back to the old data\n",
    "diamond = train_set.drop('price', axis=1)\n",
    "diamond_price = train_set['price'].copy()"
   ]
  },
  {
   "cell_type": "markdown",
   "id": "45f700fa",
   "metadata": {},
   "source": [
    "### Data Cleaning\n",
    "most data sets are missing features so we will have to make functions to deal with this\n",
    "1. drop the entire column\n",
    "2. replace missing values with mean or zero"
   ]
  },
  {
   "cell_type": "markdown",
   "id": "f484bede",
   "metadata": {},
   "source": [
    "Problem 6: use sklearns Simple Imputer to replace missing values with median value for numerical features\n",
    "\n",
    "Hint: https://scikit-learn.org/stable/modules/generated/sklearn.impute.SimpleImputer.html"
   ]
  },
  {
   "cell_type": "code",
   "execution_count": 20,
   "id": "53954b18",
   "metadata": {},
   "outputs": [],
   "source": [
    "from sklearn.impute import SimpleImputer"
   ]
  },
  {
   "cell_type": "code",
   "execution_count": 21,
   "id": "3da9a9a9",
   "metadata": {},
   "outputs": [],
   "source": [
    "imputer = SimpleImputer(strategy='median')"
   ]
  },
  {
   "cell_type": "code",
   "execution_count": 22,
   "id": "2389ed7b",
   "metadata": {},
   "outputs": [],
   "source": [
    "diamond_num = diamond.drop(['cut','color','clarity'], axis=1)"
   ]
  },
  {
   "cell_type": "code",
   "execution_count": 23,
   "id": "274b33a4",
   "metadata": {},
   "outputs": [
    {
     "data": {
      "text/plain": [
       "SimpleImputer(strategy='median')"
      ]
     },
     "execution_count": 23,
     "metadata": {},
     "output_type": "execute_result"
    }
   ],
   "source": [
    "imputer.fit(diamond_num)"
   ]
  },
  {
   "cell_type": "code",
   "execution_count": 24,
   "id": "db039155",
   "metadata": {},
   "outputs": [
    {
     "data": {
      "text/plain": [
       "array([ 0.7 , 61.8 , 57.  ,  5.7 ,  5.71,  3.53])"
      ]
     },
     "execution_count": 24,
     "metadata": {},
     "output_type": "execute_result"
    }
   ],
   "source": [
    "imputer.statistics_"
   ]
  },
  {
   "cell_type": "code",
   "execution_count": 25,
   "id": "818fc322",
   "metadata": {},
   "outputs": [],
   "source": [
    "X = imputer.transform(diamond_num)"
   ]
  },
  {
   "cell_type": "code",
   "execution_count": 26,
   "id": "b5e3959a",
   "metadata": {},
   "outputs": [
    {
     "data": {
      "text/plain": [
       "array([[ 2.01, 58.1 , 64.  ,  8.23,  8.19,  4.77],\n",
       "       [ 1.01, 60.  , 60.  ,  6.57,  6.49,  3.92],\n",
       "       [ 1.1 , 62.5 , 58.  ,  6.59,  6.54,  4.1 ],\n",
       "       ...,\n",
       "       [ 0.33, 60.3 , 58.  ,  4.49,  4.46,  2.7 ],\n",
       "       [ 0.9 , 62.8 , 59.  ,  6.13,  6.03,  3.82],\n",
       "       [ 1.14, 60.4 , 58.  ,  6.82,  6.79,  4.11]])"
      ]
     },
     "execution_count": 26,
     "metadata": {},
     "output_type": "execute_result"
    }
   ],
   "source": [
    "X"
   ]
  },
  {
   "cell_type": "markdown",
   "id": "a730be7d",
   "metadata": {},
   "source": [
    "### Text and Categorical Attributes\n",
    "ML models can not take in text data so there are a few way we can convert the text data to numbers\n",
    "1. just make each category a number (i.e. cat = 1 shoe = 2)\n",
    "    - the issue with this is that shoe means it is twice cat and that just makes no sense \n",
    "2. one hot encoder: make one attribute equal to 1 and the rest 0\n",
    "3. embedding: embeds text as an array of values that has meaning to it(will learn about in later chapter)"
   ]
  },
  {
   "cell_type": "markdown",
   "id": "52893b7a",
   "metadata": {},
   "source": [
    "**Problem 7**: make one hot encoding for all categorical features<br/>\n",
    "Hint: https://scikit-learn.org/stable/modules/generated/sklearn.preprocessing.OneHotEncoder.html"
   ]
  },
  {
   "cell_type": "code",
   "execution_count": 27,
   "id": "b409b1ce",
   "metadata": {},
   "outputs": [],
   "source": [
    "diamond\n",
    "diamond_cat = diamond[[\"cut\",'color','clarity']]\n"
   ]
  },
  {
   "cell_type": "code",
   "execution_count": 28,
   "id": "93b08cbc",
   "metadata": {},
   "outputs": [
    {
     "data": {
      "text/plain": [
       "<43152x20 sparse matrix of type '<class 'numpy.float64'>'\n",
       "\twith 129456 stored elements in Compressed Sparse Row format>"
      ]
     },
     "execution_count": 28,
     "metadata": {},
     "output_type": "execute_result"
    }
   ],
   "source": [
    "from sklearn.preprocessing import OneHotEncoder\n",
    "\n",
    "cat_encoder = OneHotEncoder()\n",
    "diamond_cat_1hot = cat_encoder.fit_transform(diamond_cat)\n",
    "diamond_cat_1hot"
   ]
  },
  {
   "cell_type": "code",
   "execution_count": 29,
   "id": "1741a3b4",
   "metadata": {},
   "outputs": [
    {
     "data": {
      "text/plain": [
       "array([0., 1., 0., 0., 0., 0., 0., 1., 0., 0., 0., 0., 0., 0., 0., 1., 0.,\n",
       "       0., 0., 0.])"
      ]
     },
     "execution_count": 29,
     "metadata": {},
     "output_type": "execute_result"
    }
   ],
   "source": [
    "diamond_cat_1hot.toarray()[0]\n"
   ]
  },
  {
   "cell_type": "markdown",
   "id": "9ac8af01",
   "metadata": {},
   "source": [
    "### Feature Scaling\n",
    "many ML algos dont work so well if the scales of the input very different so it is common to scale features before training, two methods for that are\n",
    "1. min max scaling\n",
    "2. standardization\n",
    "    - unlike min max scaling standardization does not bound values, and standardization is much less affected by outliers"
   ]
  },
  {
   "cell_type": "markdown",
   "id": "9b7167e5",
   "metadata": {},
   "source": [
    "### Transformation Pipeline"
   ]
  },
  {
   "cell_type": "markdown",
   "id": "bf444a03",
   "metadata": {},
   "source": [
    "**Problem 8:** create a sklearn pipeline to deal with numerical missing values, and scaling "
   ]
  },
  {
   "cell_type": "code",
   "execution_count": 30,
   "id": "096b9d1d",
   "metadata": {},
   "outputs": [],
   "source": [
    "from sklearn.pipeline import Pipeline\n",
    "from sklearn.preprocessing import StandardScaler\n",
    "\n",
    "num_pipeline = Pipeline([\n",
    "    ('imputer', SimpleImputer(strategy=\"median\")),\n",
    "    ('std_scaler', StandardScaler())\n",
    "])\n",
    "diamond_num_tr = num_pipeline.fit_transform(diamond_num)\n"
   ]
  },
  {
   "cell_type": "code",
   "execution_count": 31,
   "id": "62c6a065",
   "metadata": {},
   "outputs": [
    {
     "data": {
      "text/plain": [
       "array([[ 2.56005606, -2.55074762,  2.93386055,  2.22945022,  2.13820916,\n",
       "         1.73820671],\n",
       "       [ 0.44739205, -1.22042647,  1.13957453,  0.74754991,  0.65671016,\n",
       "         0.5377332 ],\n",
       "       [ 0.63753181,  0.52999608,  0.24243153,  0.76540413,  0.70028366,\n",
       "         0.79195112],\n",
       "       ...,\n",
       "       [-0.98921948, -1.01037577,  0.24243153, -1.10928903, -1.11237394,\n",
       "        -1.18529936],\n",
       "       [ 0.21499901,  0.74004679,  0.69100303,  0.35475706,  0.25583396,\n",
       "         0.39650102],\n",
       "       [ 0.72203837, -0.94035886,  0.24243153,  0.97072767,  0.91815116,\n",
       "         0.80607434]])"
      ]
     },
     "execution_count": 31,
     "metadata": {},
     "output_type": "execute_result"
    }
   ],
   "source": [
    "diamond_num_tr"
   ]
  },
  {
   "cell_type": "markdown",
   "id": "1402ebb3",
   "metadata": {},
   "source": [
    "**Problem 9:** make a pipeline that deals with num data and that converts categorical data to one hot encoding"
   ]
  },
  {
   "cell_type": "code",
   "execution_count": 32,
   "id": "503882a6",
   "metadata": {},
   "outputs": [],
   "source": [
    "from sklearn.compose import ColumnTransformer\n",
    "\n",
    "num_attribs = list(diamond_num)\n",
    "cat_attribs = [\"cut\",'color','clarity']"
   ]
  },
  {
   "cell_type": "code",
   "execution_count": 44,
   "id": "1b41ab8d",
   "metadata": {},
   "outputs": [],
   "source": [
    "\n",
    "\n",
    "full_pipeline = ColumnTransformer([\n",
    "        (\"num\", num_pipeline, num_attribs),\n",
    "        (\"cat\", OneHotEncoder(), cat_attribs),\n",
    "    ])\n",
    "\n",
    "diamond_prepared = full_pipeline.fit_transform(diamond)"
   ]
  },
  {
   "cell_type": "code",
   "execution_count": 45,
   "id": "d0f11b0a",
   "metadata": {},
   "outputs": [
    {
     "data": {
      "text/plain": [
       "array([[ 2.56005606, -2.55074762,  2.93386055, ...,  0.        ,\n",
       "         0.        ,  0.        ],\n",
       "       [ 0.44739205, -1.22042647,  1.13957453, ...,  0.        ,\n",
       "         0.        ,  0.        ],\n",
       "       [ 0.63753181,  0.52999608,  0.24243153, ...,  1.        ,\n",
       "         0.        ,  0.        ],\n",
       "       ...,\n",
       "       [-0.98921948, -1.01037577,  0.24243153, ...,  0.        ,\n",
       "         0.        ,  0.        ],\n",
       "       [ 0.21499901,  0.74004679,  0.69100303, ...,  0.        ,\n",
       "         0.        ,  0.        ],\n",
       "       [ 0.72203837, -0.94035886,  0.24243153, ...,  0.        ,\n",
       "         0.        ,  0.        ]])"
      ]
     },
     "execution_count": 45,
     "metadata": {},
     "output_type": "execute_result"
    }
   ],
   "source": [
    "diamond_prepared"
   ]
  },
  {
   "cell_type": "markdown",
   "id": "80357ce1",
   "metadata": {},
   "source": [
    "## Select and Train a Model\n",
    "in this section we will go over how to decide if a model is good "
   ]
  },
  {
   "cell_type": "markdown",
   "id": "310ea1f3",
   "metadata": {},
   "source": [
    "### Train models"
   ]
  },
  {
   "cell_type": "markdown",
   "id": "a348f21a",
   "metadata": {},
   "source": [
    "**Problem 10:** train a linear model and check how it does on the training set (get the MSE)"
   ]
  },
  {
   "cell_type": "code",
   "execution_count": 40,
   "id": "f017d751",
   "metadata": {
    "scrolled": true
   },
   "outputs": [
    {
     "data": {
      "text/plain": [
       "LinearRegression()"
      ]
     },
     "execution_count": 40,
     "metadata": {},
     "output_type": "execute_result"
    }
   ],
   "source": [
    "from sklearn.linear_model import LinearRegression\n",
    "\n",
    "lin_reg = LinearRegression()\n",
    "lin_reg.fit(diamond_prepared, train_set['price'])"
   ]
  },
  {
   "cell_type": "code",
   "execution_count": 51,
   "id": "4d4ad75b",
   "metadata": {},
   "outputs": [
    {
     "name": "stdout",
     "output_type": "stream",
     "text": [
      "Predictions: [13968.5241666   4600.4810862   6292.58737644  9073.49611448\n",
      " 11167.07228422]\n"
     ]
    }
   ],
   "source": [
    "# let's try the full preprocessing pipeline on a few training instances\n",
    "some_data = train_set.iloc[:5].drop(['price'],axis=1)\n",
    "some_labels = train_set['price'].iloc[:5]\n",
    "some_data_prepared = full_pipeline.transform(some_data)\n",
    "\n",
    "print(\"Predictions:\", lin_reg.predict(some_data_prepared))"
   ]
  },
  {
   "cell_type": "code",
   "execution_count": 52,
   "id": "5e68c36d",
   "metadata": {},
   "outputs": [
    {
     "data": {
      "text/plain": [
       "[16231, 4540, 5729, 6300, 12968]"
      ]
     },
     "execution_count": 52,
     "metadata": {},
     "output_type": "execute_result"
    }
   ],
   "source": [
    "list(some_labels)"
   ]
  },
  {
   "cell_type": "code",
   "execution_count": 53,
   "id": "080b09e8",
   "metadata": {},
   "outputs": [
    {
     "data": {
      "text/plain": [
       "1128.5697163572002"
      ]
     },
     "execution_count": 53,
     "metadata": {},
     "output_type": "execute_result"
    }
   ],
   "source": [
    "import numpy as np\n",
    "from sklearn.metrics import mean_squared_error\n",
    "\n",
    "diamond_predictions = lin_reg.predict(diamond_prepared)\n",
    "lin_mse = mean_squared_error(train_set['price'], diamond_predictions)\n",
    "lin_rmse = np.sqrt(lin_mse)\n",
    "lin_rmse"
   ]
  },
  {
   "cell_type": "markdown",
   "id": "4861d097",
   "metadata": {},
   "source": [
    "your MSE should be around 1,128 (it might not be exactly the same as mine"
   ]
  },
  {
   "cell_type": "markdown",
   "id": "0ca8a7c1",
   "metadata": {},
   "source": [
    "this is a good result but lets see what happens if we train a stronger model"
   ]
  },
  {
   "cell_type": "markdown",
   "id": "8017d583",
   "metadata": {},
   "source": [
    "**Problem 11:** train a decision tree and get the MSE"
   ]
  },
  {
   "cell_type": "code",
   "execution_count": 54,
   "id": "734f5cee",
   "metadata": {},
   "outputs": [
    {
     "data": {
      "text/plain": [
       "DecisionTreeRegressor(random_state=42)"
      ]
     },
     "execution_count": 54,
     "metadata": {},
     "output_type": "execute_result"
    }
   ],
   "source": [
    "from sklearn.tree import DecisionTreeRegressor\n",
    "tree_reg = DecisionTreeRegressor(random_state=42)\n",
    "tree_reg.fit(diamond_prepared, train_set['price'])"
   ]
  },
  {
   "cell_type": "code",
   "execution_count": 55,
   "id": "870b72ea",
   "metadata": {},
   "outputs": [
    {
     "data": {
      "text/plain": [
       "9.067323921015339"
      ]
     },
     "execution_count": 55,
     "metadata": {},
     "output_type": "execute_result"
    }
   ],
   "source": [
    "diamond_predictions = tree_reg.predict(diamond_prepared)\n",
    "tree_mse = mean_squared_error(train_set['price'], diamond_predictions)\n",
    "tree_rmse = np.sqrt(tree_mse)\n",
    "tree_rmse"
   ]
  },
  {
   "cell_type": "markdown",
   "id": "b8dd591d",
   "metadata": {},
   "source": [
    "while this might look really good we are overfitting the training set, and this model will not do well on data not in the training set. So in the next part we will go over how to deal with this issue so you can choose the best model available"
   ]
  },
  {
   "cell_type": "markdown",
   "id": "acd03a15",
   "metadata": {},
   "source": [
    "### Cross validation\n",
    "A better way to evaluate a model is using cross validation, cross validation basicly splits your training data into n parts (i.e. 5) and trains on 4 of them then tests on the fifth,  then takes the next 4 and does the same.<br/>\n",
    "\n",
    "here is an example of how to do it with Sklearn, wont actually run bc fake variables \n",
    "from sklearn.model_selection import cross_val_score\n",
    "\n",
    "    scores = cross_val_score(Model, X_data, Y_data,\n",
    "                             scoring=\"neg_mean_squared_error\", cv=10)\n",
    "    tree_rmse_scores = np.sqrt(-scores)"
   ]
  },
  {
   "cell_type": "code",
   "execution_count": 56,
   "id": "4fb46743",
   "metadata": {},
   "outputs": [
    {
     "data": {
      "text/plain": [
       "RandomForestRegressor(random_state=42)"
      ]
     },
     "execution_count": 56,
     "metadata": {},
     "output_type": "execute_result"
    }
   ],
   "source": [
    "from sklearn.ensemble import RandomForestRegressor\n",
    "\n",
    "forest_reg = RandomForestRegressor(n_estimators=100, random_state=42)\n",
    "forest_reg.fit(diamond_prepared, train_set['price'])"
   ]
  },
  {
   "cell_type": "markdown",
   "id": "895c3d19",
   "metadata": {},
   "source": [
    "**Problem 12:** use cross validation to evaluate your DecisionTreeRegressor, LinearRegression, and RandomForestRegressor"
   ]
  },
  {
   "cell_type": "code",
   "execution_count": 57,
   "id": "18d33ae3",
   "metadata": {},
   "outputs": [],
   "source": [
    "from sklearn.model_selection import cross_val_score\n",
    "\n",
    "scores = cross_val_score(tree_reg, diamond_prepared, train_set['price'],\n",
    "                         scoring=\"neg_mean_squared_error\", cv=10)\n",
    "tree_rmse_scores = np.sqrt(-scores)"
   ]
  },
  {
   "cell_type": "code",
   "execution_count": 58,
   "id": "578f6735",
   "metadata": {},
   "outputs": [
    {
     "name": "stdout",
     "output_type": "stream",
     "text": [
      "Scores: [707.93293952 743.35483821 769.03654868 756.68995906 777.91299114\n",
      " 778.00721798 758.45997625 715.51561249 753.46979323 712.07251533]\n",
      "Mean: 747.2452391902841\n",
      "Standard deviation: 25.33746532538906\n"
     ]
    }
   ],
   "source": [
    "def display_scores(scores):\n",
    "    print(\"Scores:\", scores)\n",
    "    print(\"Mean:\", scores.mean())\n",
    "    print(\"Standard deviation:\", scores.std())\n",
    "\n",
    "display_scores(tree_rmse_scores)"
   ]
  },
  {
   "cell_type": "code",
   "execution_count": 59,
   "id": "a920b783",
   "metadata": {},
   "outputs": [],
   "source": [
    "scores = cross_val_score(lin_reg, diamond_prepared, train_set['price'],\n",
    "                         scoring=\"neg_mean_squared_error\", cv=10)\n",
    "linreg_rmse_scores = np.sqrt(-scores)"
   ]
  },
  {
   "cell_type": "code",
   "execution_count": 60,
   "id": "3f1a3e91",
   "metadata": {},
   "outputs": [
    {
     "name": "stdout",
     "output_type": "stream",
     "text": [
      "Scores: [1062.36599543 1118.48611931 1183.98706543 1122.57648177 1196.79396162\n",
      " 1141.00304933 1118.49633703 1108.32554135 1115.31585564 1127.59307967]\n",
      "Mean: 1129.4943486598336\n",
      "Standard deviation: 36.16644471255682\n"
     ]
    }
   ],
   "source": [
    "display_scores(linreg_rmse_scores)"
   ]
  },
  {
   "cell_type": "code",
   "execution_count": 61,
   "id": "5f45764f",
   "metadata": {},
   "outputs": [],
   "source": [
    "scores = cross_val_score(forest_reg, diamond_prepared, train_set['price'],\n",
    "                         scoring=\"neg_mean_squared_error\", cv=5)\n",
    "forest_reg_rmse_scores = np.sqrt(-scores)"
   ]
  },
  {
   "cell_type": "code",
   "execution_count": 62,
   "id": "4e49b87a",
   "metadata": {},
   "outputs": [
    {
     "name": "stdout",
     "output_type": "stream",
     "text": [
      "Scores: [527.28496226 599.69610233 556.40105114 558.76219238 554.12782506]\n",
      "Mean: 559.2544266317088\n",
      "Standard deviation: 23.20449040851081\n"
     ]
    }
   ],
   "source": [
    "display_scores(forest_reg_rmse_scores)"
   ]
  },
  {
   "cell_type": "markdown",
   "id": "207e6f90",
   "metadata": {},
   "source": [
    "In this case we would probably still choose the RandomForestRegressor becuase it did better on the cross validation test."
   ]
  },
  {
   "cell_type": "markdown",
   "id": "4a4dba1f",
   "metadata": {},
   "source": [
    "## Fine Tune Model\n",
    "now that we have some good models we will try and fine to the best one (random forest)"
   ]
  },
  {
   "cell_type": "markdown",
   "id": "af00181d",
   "metadata": {},
   "source": [
    "### Grid Search\n",
    "Grid search is a method for looking for the best hyper peramiter by trying every combination \n"
   ]
  },
  {
   "cell_type": "code",
   "execution_count": 63,
   "id": "78211bda",
   "metadata": {},
   "outputs": [
    {
     "data": {
      "text/plain": [
       "GridSearchCV(cv=5, estimator=DecisionTreeRegressor(),\n",
       "             param_grid=[{'max_depth': [3, 10, 30],\n",
       "                          'max_leaf_nodes': [5, 10, 35],\n",
       "                          'min_samples_leaf': [1, 2, 4]}],\n",
       "             return_train_score=True, scoring='neg_mean_squared_error')"
      ]
     },
     "execution_count": 63,
     "metadata": {},
     "output_type": "execute_result"
    }
   ],
   "source": [
    "from sklearn.model_selection import GridSearchCV\n",
    "\n",
    "param_grid = [\n",
    "    # try 12 (3×4) combinations of hyperparameters\n",
    "    {'max_depth': [3, 10, 30], 'min_samples_leaf': [1, 2, 4],'max_leaf_nodes':[5,10,35]}\n",
    "  ]\n",
    "\n",
    "tree_reg = DecisionTreeRegressor()\n",
    "# train across 5 folds, that's a total of (12+6)*5=90 rounds of training \n",
    "grid_search = GridSearchCV(tree_reg, param_grid, cv=5,\n",
    "                           scoring='neg_mean_squared_error',\n",
    "                           return_train_score=True)\n",
    "grid_search.fit(diamond_prepared, train_set['price'])"
   ]
  },
  {
   "cell_type": "code",
   "execution_count": 64,
   "id": "c010e91c",
   "metadata": {
    "scrolled": true
   },
   "outputs": [
    {
     "data": {
      "text/plain": [
       "{'max_depth': 30, 'max_leaf_nodes': 35, 'min_samples_leaf': 1}"
      ]
     },
     "execution_count": 64,
     "metadata": {},
     "output_type": "execute_result"
    }
   ],
   "source": [
    "grid_search.best_params_\n"
   ]
  },
  {
   "cell_type": "markdown",
   "id": "5d7daba3",
   "metadata": {},
   "source": [
    "### Random Search\n",
    "in many casses it may take too long to look through all possible peramiters so random search just searches through some random combinations of peramitors."
   ]
  },
  {
   "cell_type": "code",
   "execution_count": 70,
   "id": "068aeb96",
   "metadata": {},
   "outputs": [
    {
     "data": {
      "text/plain": [
       "RandomizedSearchCV(cv=5, estimator=DecisionTreeRegressor(),\n",
       "                   param_distributions={'max_depth': <scipy.stats._distn_infrastructure.rv_frozen object at 0x7fe803ffc910>,\n",
       "                                        'max_leaf_nodes': <scipy.stats._distn_infrastructure.rv_frozen object at 0x7fe803fea7f0>,\n",
       "                                        'min_samples_leaf': <scipy.stats._distn_infrastructure.rv_frozen object at 0x7fe8074ae250>},\n",
       "                   random_state=42, scoring='neg_mean_squared_error')"
      ]
     },
     "execution_count": 70,
     "metadata": {},
     "output_type": "execute_result"
    }
   ],
   "source": [
    "from sklearn.model_selection import RandomizedSearchCV\n",
    "from scipy.stats import randint\n",
    "\n",
    "param_distribs = {\n",
    "        'max_depth': randint(low=1, high=200),\n",
    "        'min_samples_leaf': randint(low=1, high=8),\n",
    "        'max_leaf_nodes':randint(low=5, high=20)\n",
    "    }\n",
    "\n",
    "tree_reg = DecisionTreeRegressor()\n",
    "rnd_search = RandomizedSearchCV(tree_reg, param_distributions=param_distribs,\n",
    "                                n_iter=10, cv=5, scoring='neg_mean_squared_error', random_state=42)\n",
    "rnd_search.fit(diamond_prepared, train_set['price'])"
   ]
  },
  {
   "cell_type": "code",
   "execution_count": 71,
   "id": "dec249e8",
   "metadata": {},
   "outputs": [
    {
     "data": {
      "text/plain": [
       "{'max_depth': 88, 'max_leaf_nodes': 16, 'min_samples_leaf': 6}"
      ]
     },
     "execution_count": 71,
     "metadata": {},
     "output_type": "execute_result"
    }
   ],
   "source": [
    "rnd_search.best_params_"
   ]
  },
  {
   "cell_type": "markdown",
   "id": "c5a419ec",
   "metadata": {},
   "source": [
    "**Problem 13:** use grid search or random search to find the best peramitors for random forest model"
   ]
  },
  {
   "cell_type": "code",
   "execution_count": 68,
   "id": "d4e13b24",
   "metadata": {},
   "outputs": [
    {
     "data": {
      "text/plain": [
       "RandomizedSearchCV(cv=5,\n",
       "                   estimator=RandomForestRegressor(n_jobs=-1, random_state=42),\n",
       "                   param_distributions={'max_features': <scipy.stats._distn_infrastructure.rv_frozen object at 0x7fe807494a90>,\n",
       "                                        'n_estimators': <scipy.stats._distn_infrastructure.rv_frozen object at 0x7fe8084072b0>},\n",
       "                   random_state=42, scoring='neg_mean_squared_error')"
      ]
     },
     "execution_count": 68,
     "metadata": {},
     "output_type": "execute_result"
    }
   ],
   "source": [
    "param_distribs = {\n",
    "        'n_estimators': randint(low=1, high=200),\n",
    "        'max_features': randint(low=1, high=8),\n",
    "    }\n",
    "\n",
    "forest_reg = RandomForestRegressor(random_state=42,n_jobs=-1)\n",
    "rnd_search = RandomizedSearchCV(forest_reg, param_distributions=param_distribs,\n",
    "                                n_iter=10, cv=5, scoring='neg_mean_squared_error', random_state=42)\n",
    "rnd_search.fit(diamond_prepared, train_set['price'])"
   ]
  },
  {
   "cell_type": "code",
   "execution_count": 72,
   "id": "d04929a5",
   "metadata": {},
   "outputs": [
    {
     "data": {
      "text/plain": [
       "{'max_depth': 88, 'max_leaf_nodes': 16, 'min_samples_leaf': 6}"
      ]
     },
     "execution_count": 72,
     "metadata": {},
     "output_type": "execute_result"
    }
   ],
   "source": [
    "rnd_search.best_params_"
   ]
  },
  {
   "cell_type": "markdown",
   "id": "6e4fde7c",
   "metadata": {},
   "source": [
    "## Feature importance\n",
    "using the random forest model we just trained we could get the top features that the model used"
   ]
  },
  {
   "cell_type": "code",
   "execution_count": 73,
   "id": "24c197cd",
   "metadata": {},
   "outputs": [
    {
     "data": {
      "text/plain": [
       "array([0.66784703, 0.        , 0.        , 0.        , 0.26376846,\n",
       "       0.        , 0.        , 0.        , 0.        , 0.        ,\n",
       "       0.        , 0.        , 0.        , 0.        , 0.        ,\n",
       "       0.        , 0.00402215, 0.00602516, 0.0157545 , 0.        ,\n",
       "       0.01112576, 0.01915639, 0.00560907, 0.00669148, 0.        ,\n",
       "       0.        ])"
      ]
     },
     "execution_count": 73,
     "metadata": {},
     "output_type": "execute_result"
    }
   ],
   "source": [
    "feature_importances = rnd_search.best_estimator_.feature_importances_\n",
    "feature_importances"
   ]
  },
  {
   "cell_type": "code",
   "execution_count": 81,
   "id": "6dc3ac03",
   "metadata": {},
   "outputs": [
    {
     "data": {
      "text/plain": [
       "[(0.667847032533508, 'carat'),\n",
       " (0.2637684606496026, 'y'),\n",
       " (0.0, 'z'),\n",
       " (0.0, 'x'),\n",
       " (0.0, 'table'),\n",
       " (0.0, 'depth'),\n",
       " (0.0, 'Very Good'),\n",
       " (0.0, 'Premium'),\n",
       " (0.0, 'Ideal'),\n",
       " (0.0, 'Good'),\n",
       " (0.0, 'Fair')]"
      ]
     },
     "execution_count": 81,
     "metadata": {},
     "output_type": "execute_result"
    }
   ],
   "source": [
    "#BUG only shows some of the results\n",
    "cat_encoder = full_pipeline.named_transformers_[\"cat\"]\n",
    "cat_one_hot_attribs = list(cat_encoder.categories_[0])\n",
    "attributes = num_attribs + cat_one_hot_attribs\n",
    "sorted(zip(feature_importances, attributes), reverse=True)"
   ]
  },
  {
   "cell_type": "markdown",
   "id": "935932a1",
   "metadata": {},
   "source": [
    "after this analysis we can see that carat and 'y' are the most usefull features"
   ]
  },
  {
   "cell_type": "markdown",
   "id": "bd38fea7",
   "metadata": {},
   "source": [
    "## Evaluate your System on the Test Set"
   ]
  },
  {
   "cell_type": "markdown",
   "id": "2ab0794a",
   "metadata": {},
   "source": [
    "**Problem 14:** test results on test set"
   ]
  },
  {
   "cell_type": "code",
   "execution_count": 83,
   "id": "d01ed5ad",
   "metadata": {},
   "outputs": [
    {
     "ename": "NameError",
     "evalue": "name 'strat_test_set' is not defined",
     "output_type": "error",
     "traceback": [
      "\u001b[0;31m---------------------------------------------------------------------------\u001b[0m",
      "\u001b[0;31mNameError\u001b[0m                                 Traceback (most recent call last)",
      "\u001b[0;32m<ipython-input-83-582646423fca>\u001b[0m in \u001b[0;36m<module>\u001b[0;34m\u001b[0m\n\u001b[1;32m      1\u001b[0m \u001b[0mfinal_model\u001b[0m \u001b[0;34m=\u001b[0m \u001b[0mrnd_search\u001b[0m\u001b[0;34m.\u001b[0m\u001b[0mbest_estimator_\u001b[0m\u001b[0;34m\u001b[0m\u001b[0;34m\u001b[0m\u001b[0m\n\u001b[1;32m      2\u001b[0m \u001b[0;34m\u001b[0m\u001b[0m\n\u001b[0;32m----> 3\u001b[0;31m \u001b[0mX_test\u001b[0m \u001b[0;34m=\u001b[0m \u001b[0mstrat_test_set\u001b[0m\u001b[0;34m.\u001b[0m\u001b[0mdrop\u001b[0m\u001b[0;34m(\u001b[0m\u001b[0;34m\"price\"\u001b[0m\u001b[0;34m,\u001b[0m \u001b[0maxis\u001b[0m\u001b[0;34m=\u001b[0m\u001b[0;36m1\u001b[0m\u001b[0;34m)\u001b[0m\u001b[0;34m\u001b[0m\u001b[0;34m\u001b[0m\u001b[0m\n\u001b[0m\u001b[1;32m      4\u001b[0m \u001b[0my_test\u001b[0m \u001b[0;34m=\u001b[0m \u001b[0mstrat_test_set\u001b[0m\u001b[0;34m[\u001b[0m\u001b[0;34m\"price\"\u001b[0m\u001b[0;34m]\u001b[0m\u001b[0;34m.\u001b[0m\u001b[0mcopy\u001b[0m\u001b[0;34m(\u001b[0m\u001b[0;34m)\u001b[0m\u001b[0;34m\u001b[0m\u001b[0;34m\u001b[0m\u001b[0m\n\u001b[1;32m      5\u001b[0m \u001b[0;34m\u001b[0m\u001b[0m\n",
      "\u001b[0;31mNameError\u001b[0m: name 'strat_test_set' is not defined"
     ]
    }
   ],
   "source": [
    "final_model = rnd_search.best_estimator_\n",
    "\n",
    "X_test = test_set.drop(\"price\", axis=1)\n",
    "y_test = strat_test_set[\"price\"].copy()\n",
    "\n",
    "X_test_prepared = full_pipeline.transform(X_test)\n",
    "final_predictions = final_model.predict(X_test_prepared)\n",
    "\n",
    "final_mse = mean_squared_error(y_test, final_predictions)\n",
    "final_rmse = np.sqrt(final_mse)"
   ]
  },
  {
   "cell_type": "code",
   "execution_count": null,
   "id": "9de8dba3",
   "metadata": {},
   "outputs": [],
   "source": []
  }
 ],
 "metadata": {
  "kernelspec": {
   "display_name": "Python 3",
   "language": "python",
   "name": "python3"
  },
  "language_info": {
   "codemirror_mode": {
    "name": "ipython",
    "version": 3
   },
   "file_extension": ".py",
   "mimetype": "text/x-python",
   "name": "python",
   "nbconvert_exporter": "python",
   "pygments_lexer": "ipython3",
   "version": "3.9.5"
  }
 },
 "nbformat": 4,
 "nbformat_minor": 5
}
